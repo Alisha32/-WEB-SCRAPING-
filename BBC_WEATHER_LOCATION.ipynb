{
  "nbformat": 4,
  "nbformat_minor": 0,
  "metadata": {
    "colab": {
      "provenance": []
    },
    "kernelspec": {
      "name": "python3",
      "display_name": "Python 3"
    },
    "language_info": {
      "name": "python"
    }
  },
  "cells": [
    {
      "cell_type": "markdown",
      "source": [
        "#GETTING LOCATION ID\n"
      ],
      "metadata": {
        "id": "r4-gx2LNrdLi"
      }
    },
    {
      "cell_type": "code",
      "execution_count": 1,
      "metadata": {
        "id": "UfX5rZKbI2Y-"
      },
      "outputs": [],
      "source": [
        "import numpy as np\n",
        "import pandas as pd\n",
        "import re\n",
        "import requests\n",
        "from urllib.parse import urlencode"
      ]
    },
    {
      "cell_type": "code",
      "source": [
        "def getlocid(city):\n",
        "  city = city.lower()\n",
        "  location_url = \"https://locator-service.api.bbci.co.uk/locations?\"+urlencode({\n",
        "      'api_key':'AGbFAKx58hyjQScCXIYrxuEwJh2W2cmv',\n",
        "      'stack':'aws',\n",
        "      's':city,\n",
        "      'locale':'en',\n",
        "      'filter':'international',\n",
        "      'place-types':'settlement,airport,district',\n",
        "      'order':'importance',\n",
        "      'a':'true',\n",
        "      'format':'json'\n",
        "  })\n",
        "  result = requests.get(location_url).json()\n",
        "  locid = result['response']['results']['results'][0]['id']\n",
        "  return locid"
      ],
      "metadata": {
        "id": "S37wU4lJJUIc"
      },
      "execution_count": 14,
      "outputs": []
    },
    {
      "cell_type": "code",
      "source": [
        "getlocid(\"Toronto\")"
      ],
      "metadata": {
        "colab": {
          "base_uri": "https://localhost:8080/",
          "height": 36
        },
        "id": "1egjc-1VRELd",
        "outputId": "b801161c-13c2-4e6f-9b2d-8f607e8a0606"
      },
      "execution_count": 15,
      "outputs": [
        {
          "output_type": "execute_result",
          "data": {
            "text/plain": [
              "'6167865'"
            ],
            "application/vnd.google.colaboratory.intrinsic+json": {
              "type": "string"
            }
          },
          "metadata": {},
          "execution_count": 15
        }
      ]
    },
    {
      "cell_type": "code",
      "source": [],
      "metadata": {
        "id": "VEFkHodorrbT"
      },
      "execution_count": null,
      "outputs": []
    }
  ]
}